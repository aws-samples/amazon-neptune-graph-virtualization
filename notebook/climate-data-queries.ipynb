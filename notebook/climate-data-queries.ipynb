{
 "cells": [
  {
   "cell_type": "markdown",
   "id": "b5f61784",
   "metadata": {},
   "source": [
    "## Get Climate data"
   ]
  },
  {
   "cell_type": "code",
   "execution_count": null,
   "id": "fb937dfe",
   "metadata": {},
   "outputs": [],
   "source": [
    "%%bash\n",
    "\n",
    "PUB_BUCKET=`source ~/.bashrc ; echo $PUB_BUCKET`\n",
    "DATA_BUCKET=`source ~/.bashrc ; echo $DATA_BUCKET`\n",
    "ROOT_DIR_NOSLASH=`source ~/.bashrc ; echo $ROOT_DIR_NOSLASH`\n",
    "echo $PUB_BUCKET\n",
    "echo $DATA_BUCKET\n",
    "echo $ROOT_DIR_NOSLASH\n",
    "\n",
    "echo aws s3 --recursive cp s3://$PUB_BUCKET/$ROOT_DIR_NOSLASH/rdf s3://$DATA_BUCKET/rdf\n",
    "aws s3 cp --recursive  s3://$PUB_BUCKET/$ROOT_DIR_NOSLASH/rdf s3://$DATA_BUCKET/rdf\n",
    "\n",
    "echo aws s3 --recursive cp s3://$PUB_BUCKET/$ROOT_DIR_NOSLASH/lake s3://$DATA_BUCKET/lake\n",
    "aws s3 cp --recursive  s3://$PUB_BUCKET/$ROOT_DIR_NOSLASH/lake s3://$DATA_BUCKET/lake/climate\n",
    "\n"
   ]
  },
  {
   "cell_type": "markdown",
   "id": "363962c7",
   "metadata": {},
   "source": [
    "## Bulk-load RDF data to Neptune"
   ]
  },
  {
   "cell_type": "code",
   "execution_count": null,
   "id": "16866732",
   "metadata": {},
   "outputs": [],
   "source": [
    "import os\n",
    "import subprocess\n",
    "\n",
    "stream = os.popen(\"source ~/.bashrc ; echo $DATA_BUCKET\")\n",
    "lines=stream.read().split(\"\\n\")\n",
    "DATA_BUCKET=lines[0]\n",
    "DATA_BUCKET\n",
    "%load -s s3://{DATA_BUCKET}/rdf -f nquads --store-to loadres1 --run\n"
   ]
  },
  {
   "cell_type": "code",
   "execution_count": null,
   "id": "b2627eab",
   "metadata": {},
   "outputs": [],
   "source": [
    "%load_status {loadres1['payload']['loadId']} --errors --details\n"
   ]
  },
  {
   "cell_type": "code",
   "execution_count": null,
   "id": "366dba1d",
   "metadata": {},
   "outputs": [],
   "source": [
    "%%sparql\n",
    "PREFIX clmo: <http://climate.aws.com/ontology/>\n",
    "PREFIX clmr: <http://climate.aws.com/resource#>\n",
    "PREFIX rdfs: <http://www.w3.org/2000/01/rdf-schema#>\n",
    "\n",
    "\n",
    "# readings at Manchester UK in \n",
    "select ?name ?dateTime ?fahrenheit ?celsius where {\n",
    "    BIND(clmr:3334099999 as ?stat)\n",
    "    ?stat rdfs:label ?name .\n",
    "    \n",
    "    SERVICE <http://44.214.5.75:8080/sparql> {\n",
    "        ?reading clmo:station ?stat ;\n",
    "            clmo:dateTime ?dateTime ;\n",
    "            clmo:celsius ?celsius ;\n",
    "            clmo:fahrenheit ?fahrenheit .\n",
    "        FILTER(?dateTime > \"1985-12-30T13:20:00\"^^xsd:dateTime)\n",
    "    } \n",
    "} \n",
    "order by ASC(?dateTime)\n"
   ]
  },
  {
   "cell_type": "code",
   "execution_count": null,
   "id": "4f80c40b",
   "metadata": {},
   "outputs": [],
   "source": [
    "%%sparql\n",
    "PREFIX clmo: <http://climate.aws.com/ontology/>\n",
    "PREFIX clmr: <http://climate.aws.com/resource#>\n",
    "\n",
    "\n",
    "select * where {\n",
    "    BIND(clmr:78259399999 as ?stat)\n",
    "    SERVICE <http://44.214.5.75:8080/sparql> {\n",
    "        clmr:78259399999 a ?type ;\n",
    "    } \n",
    "} \n",
    "\n"
   ]
  },
  {
   "cell_type": "code",
   "execution_count": null,
   "id": "ab01016e",
   "metadata": {},
   "outputs": [],
   "source": [
    "%load"
   ]
  },
  {
   "cell_type": "code",
   "execution_count": null,
   "id": "ab82f3fc",
   "metadata": {},
   "outputs": [],
   "source": [
    "%%sparql\n",
    "PREFIX clmo: <http://climate.aws.com/ontology/>\n",
    "PREFIX clmr: <http://climate.aws.com/resource#>\n",
    "\n",
    "\n",
    "select * where {\n",
    "\n",
    "    SERVICE <http://44.214.5.75:8080/sparql> {\n",
    "        clmr:74063099999 a clmo:WeatherStation ;\n",
    "        ?p ?o .\n",
    "    } \n",
    "} "
   ]
  },
  {
   "cell_type": "code",
   "execution_count": null,
   "id": "7278c971",
   "metadata": {},
   "outputs": [],
   "source": [
    "%%sparql\n",
    "\n",
    "select * where {\n",
    "?s ?p ?o .\n",
    "} limit 10"
   ]
  },
  {
   "cell_type": "code",
   "execution_count": null,
   "id": "5235ad16",
   "metadata": {},
   "outputs": [],
   "source": []
  }
 ],
 "metadata": {
  "kernelspec": {
   "display_name": "Python 3",
   "language": "python",
   "name": "python3"
  },
  "language_info": {
   "codemirror_mode": {
    "name": "ipython",
    "version": 3
   },
   "file_extension": ".py",
   "mimetype": "text/x-python",
   "name": "python",
   "nbconvert_exporter": "python",
   "pygments_lexer": "ipython3",
   "version": "3.10.8"
  }
 },
 "nbformat": 4,
 "nbformat_minor": 5
}
