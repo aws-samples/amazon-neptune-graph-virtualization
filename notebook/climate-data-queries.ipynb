{
 "cells": [
  {
   "cell_type": "markdown",
   "id": "f77800f3",
   "metadata": {},
   "source": [
    "## Downloads\n",
    "Clone Git repo\n",
    "Get Athena JDBC driver"
   ]
  },
  {
   "cell_type": "code",
   "execution_count": 7,
   "id": "5c084caa",
   "metadata": {},
   "outputs": [
    {
     "name": "stderr",
     "output_type": "stream",
     "text": [
      "fatal: destination path 'amazon-neptune-graph-virtualization' already exists and is not an empty directory.\n"
     ]
    },
    {
     "name": "stdout",
     "output_type": "stream",
     "text": [
      "cfn\n",
      "CODE_OF_CONDUCT.md\n",
      "CONTRIBUTING.md\n",
      "LICENSE\n",
      "notebook\n",
      "ontop\n",
      "README.md\n",
      "scripts\n"
     ]
    },
    {
     "name": "stderr",
     "output_type": "stream",
     "text": [
      "--2023-08-02 16:34:39--  https://downloads.athena.us-east-1.amazonaws.com/drivers/JDBC/SimbaAthenaJDBC-2.1.0.1000/AthenaJDBC42-2.1.0.1000.jar\n",
      "Resolving downloads.athena.us-east-1.amazonaws.com (downloads.athena.us-east-1.amazonaws.com)... 18.66.171.33, 18.66.171.103, 18.66.171.117, ...\n",
      "Connecting to downloads.athena.us-east-1.amazonaws.com (downloads.athena.us-east-1.amazonaws.com)|18.66.171.33|:443... connected.\n",
      "HTTP request sent, awaiting response... 200 OK\n",
      "Length: 176 [application/java-archive]\n",
      "Saving to: ‘AthenaJDBC42-2.1.0.1000.jar’\n",
      "\n",
      "     0K                                                       100% 32.1M=0s\n",
      "\n",
      "2023-08-02 16:34:39 (32.1 MB/s) - ‘AthenaJDBC42-2.1.0.1000.jar’ saved [176/176]\n",
      "\n"
     ]
    }
   ],
   "source": [
    "%%bash\n",
    "\n",
    "git clone https://github.com/aws-samples/amazon-neptune-graph-virtualization.git\n",
    "ls amazon-neptune-graph-virtualization\n",
    "\n",
    "wget https://downloads.athena.us-east-1.amazonaws.com/drivers/JDBC/SimbaAthenaJDBC-2.1.0.1000/AthenaJDBC42-2.1.0.1000.jar\n",
    "#wget https://downloads.athena.us-east-1.amazonaws.com/drivers/JDBC/SimbaAthenaJDBC-2.1.0.1000/SimbaAthenaJDBC-2.1.0.1000.zip\n",
    "#wget https://s3.amazonaws.com/athena-downloads/drivers/JDBC/SimbaAthenaJDBC-2.0.33.1002/AthenaJDBC42-2.0.33.jar\n"
   ]
  },
  {
   "cell_type": "markdown",
   "id": "54406ea5",
   "metadata": {},
   "source": [
    "## Get info about this environment"
   ]
  },
  {
   "cell_type": "code",
   "execution_count": 4,
   "id": "eabe17ba",
   "metadata": {},
   "outputs": [
    {
     "data": {
      "text/plain": [
       "['sligo6-s3databucket-k7ctmci9qc51',\n",
       " 'aws-neptune-customer-samples',\n",
       " 'neptune-virtualization/blog',\n",
       " '']"
      ]
     },
     "execution_count": 4,
     "metadata": {},
     "output_type": "execute_result"
    }
   ],
   "source": [
    "import os\n",
    "import subprocess\n",
    "\n",
    "stream = os.popen(\"source ~/.bashrc ; echo $DATA_BUCKET; echo $PUB_BUCKET; echo $ROOT_DIR_NOSLASH; echo $STACKNAME\")\n",
    "lines=stream.read().split(\"\\n\")\n",
    "DATA_BUCKET=lines[0]\n",
    "PUB_BUCKET=lines[1]\n",
    "ROOT_DIR_NOSLASH=lines[2]\n",
    "STACKNAME=lines[3]\n",
    "lines\n"
   ]
  },
  {
   "cell_type": "code",
   "execution_count": 10,
   "id": "85f27cbe",
   "metadata": {},
   "outputs": [
    {
     "name": "stdout",
     "output_type": "stream",
     "text": [
      "eu-west-1\n",
      "346782484055\n"
     ]
    }
   ],
   "source": [
    "%%bash\n",
    "REGION=`aws configure get region`\n",
    "ACCOUNT=`aws sts get-caller-identity --query \"Account\" --output text`\n",
    "echo $REGION\n",
    "echo $ACCOUNT\n",
    "echo \"REGION \" $REGION >> vars.txt\n",
    "echo \"ACCOUNT \" $ACCOUNT >> vars.txt\n"
   ]
  },
  {
   "cell_type": "code",
   "execution_count": null,
   "id": "a8dd6cc7",
   "metadata": {},
   "outputs": [],
   "source": []
  },
  {
   "cell_type": "code",
   "execution_count": null,
   "id": "366dba1d",
   "metadata": {},
   "outputs": [],
   "source": [
    "%%sparql\n",
    "PREFIX clmo: <http://climate.aws.com/ontology/>\n",
    "PREFIX clmr: <http://climate.aws.com/resource#>\n",
    "PREFIX rdfs: <http://www.w3.org/2000/01/rdf-schema#>\n",
    "\n",
    "\n",
    "# readings at Manchester UK in \n",
    "select ?name ?dateTime ?fahrenheit ?celsius where {\n",
    "    BIND(clmr:3334099999 as ?stat)\n",
    "    ?stat rdfs:label ?name .\n",
    "    \n",
    "    SERVICE <http://44.214.5.75:8080/sparql> {\n",
    "        ?reading clmo:station ?stat ;\n",
    "            clmo:dateTime ?dateTime ;\n",
    "            clmo:celsius ?celsius ;\n",
    "            clmo:fahrenheit ?fahrenheit .\n",
    "        FILTER(?dateTime > \"1985-12-30T13:20:00\"^^xsd:dateTime)\n",
    "    } \n",
    "} \n",
    "order by ASC(?dateTime)\n"
   ]
  },
  {
   "cell_type": "code",
   "execution_count": null,
   "id": "4f80c40b",
   "metadata": {},
   "outputs": [
    {
     "data": {
      "application/vnd.jupyter.widget-view+json": {
       "model_id": "4a912e0042cc49899bdd0bf75e48570b",
       "version_major": 2,
       "version_minor": 0
      },
      "text/plain": [
       "Tab(children=(Output(layout=Layout(overflow='scroll')),), _titles={'0': 'Error'})"
      ]
     },
     "metadata": {},
     "output_type": "display_data"
    }
   ],
   "source": [
    "%%sparql\n",
    "PREFIX clmo: <http://climate.aws.com/ontology/>\n",
    "PREFIX clmr: <http://climate.aws.com/resource#>\n",
    "\n",
    "\n",
    "select * where {\n",
    "    BIND(clmr:78259399999 as ?stat)\n",
    "    SERVICE <http://44.214.5.75:8080/sparql> {\n",
    "        clmr:78259399999 a ?type ;\n",
    "    } \n",
    "} \n",
    "\n"
   ]
  },
  {
   "cell_type": "code",
   "execution_count": 80,
   "id": "ab01016e",
   "metadata": {},
   "outputs": [
    {
     "data": {
      "application/vnd.jupyter.widget-view+json": {
       "model_id": "754be859ef7c465eaf2d74db25507621",
       "version_major": 2,
       "version_minor": 0
      },
      "text/plain": [
       "HBox(children=(Label(value='Source:', layout=Layout(display='flex', justify_content='flex-end', width='16%')),…"
      ]
     },
     "metadata": {},
     "output_type": "display_data"
    },
    {
     "data": {
      "application/vnd.jupyter.widget-view+json": {
       "model_id": "a10aeb1720c24bdab2186fd7e91dc61d",
       "version_major": 2,
       "version_minor": 0
      },
      "text/plain": [
       "HBox(children=(Label(value='Format:', layout=Layout(display='flex', justify_content='flex-end', width='16%')),…"
      ]
     },
     "metadata": {},
     "output_type": "display_data"
    },
    {
     "data": {
      "application/vnd.jupyter.widget-view+json": {
       "model_id": "8b529f559ef8476e8866e5d2a731ae63",
       "version_major": 2,
       "version_minor": 0
      },
      "text/plain": [
       "HBox(children=(Label(value='Region:', layout=Layout(display='flex', justify_content='flex-end', width='16%')),…"
      ]
     },
     "metadata": {},
     "output_type": "display_data"
    },
    {
     "data": {
      "application/vnd.jupyter.widget-view+json": {
       "model_id": "c58d1c84cc604df789eac01249da70cf",
       "version_major": 2,
       "version_minor": 0
      },
      "text/plain": [
       "HBox(children=(Label(value='Load ARN:', layout=Layout(display='flex', justify_content='flex-end', width='16%')…"
      ]
     },
     "metadata": {},
     "output_type": "display_data"
    },
    {
     "data": {
      "application/vnd.jupyter.widget-view+json": {
       "model_id": "594b9195c1d3471f8a39d1b676f2d608",
       "version_major": 2,
       "version_minor": 0
      },
      "text/plain": [
       "HBox(children=(Label(value='Mode:', layout=Layout(display='flex', justify_content='flex-end', width='16%')), D…"
      ]
     },
     "metadata": {},
     "output_type": "display_data"
    },
    {
     "data": {
      "application/vnd.jupyter.widget-view+json": {
       "model_id": "8b0a151f934a4542bc3372c6e35f1b1e",
       "version_major": 2,
       "version_minor": 0
      },
      "text/plain": [
       "HBox(children=(Label(value='Fail on Error:', layout=Layout(display='flex', justify_content='flex-end', width='…"
      ]
     },
     "metadata": {},
     "output_type": "display_data"
    },
    {
     "data": {
      "application/vnd.jupyter.widget-view+json": {
       "model_id": "76a57fb340cc48eab53a86c50e2afe78",
       "version_major": 2,
       "version_minor": 0
      },
      "text/plain": [
       "HBox(children=(Label(value='Parallelism:', layout=Layout(display='flex', justify_content='flex-end', width='16…"
      ]
     },
     "metadata": {},
     "output_type": "display_data"
    },
    {
     "data": {
      "application/vnd.jupyter.widget-view+json": {
       "model_id": "33e28bc5bd8c4339aacf40615778035a",
       "version_major": 2,
       "version_minor": 0
      },
      "text/plain": [
       "HBox(children=(Label(value='Update Single Cardinality:', layout=Layout(display='flex', justify_content='flex-e…"
      ]
     },
     "metadata": {},
     "output_type": "display_data"
    },
    {
     "data": {
      "application/vnd.jupyter.widget-view+json": {
       "model_id": "29b3f2318edf4acbaa10df480a4ef349",
       "version_major": 2,
       "version_minor": 0
      },
      "text/plain": [
       "HBox(children=(Label(value='Queue Request:', layout=Layout(display='flex', justify_content='flex-end', width='…"
      ]
     },
     "metadata": {},
     "output_type": "display_data"
    },
    {
     "data": {
      "application/vnd.jupyter.widget-view+json": {
       "model_id": "f204e6b645b1448e87c55a88ce595920",
       "version_major": 2,
       "version_minor": 0
      },
      "text/plain": [
       "HBox(children=(Label(value='Dependencies:', layout=Layout(display='flex', justify_content='flex-end', width='1…"
      ]
     },
     "metadata": {},
     "output_type": "display_data"
    },
    {
     "data": {
      "application/vnd.jupyter.widget-view+json": {
       "model_id": "521ffb1d228841999760dfdc8cbd3f9f",
       "version_major": 2,
       "version_minor": 0
      },
      "text/plain": [
       "HBox(children=(Label(value='Poll Load Status:', layout=Layout(display='flex', justify_content='flex-end', widt…"
      ]
     },
     "metadata": {},
     "output_type": "display_data"
    },
    {
     "data": {
      "application/vnd.jupyter.widget-view+json": {
       "model_id": "0120d7b4f9494617a1c99e559b93c255",
       "version_major": 2,
       "version_minor": 0
      },
      "text/plain": [
       "HBox(children=(Label(value='User Provided Edge Ids:', layout=Layout(display='none', justify_content='flex-end'…"
      ]
     },
     "metadata": {},
     "output_type": "display_data"
    },
    {
     "data": {
      "application/vnd.jupyter.widget-view+json": {
       "model_id": "303ad77f03e84fdf931d182eafa9209a",
       "version_major": 2,
       "version_minor": 0
      },
      "text/plain": [
       "HBox(children=(Label(value='Allow Empty Strings:', layout=Layout(display='flex', justify_content='flex-end', w…"
      ]
     },
     "metadata": {},
     "output_type": "display_data"
    },
    {
     "data": {
      "application/vnd.jupyter.widget-view+json": {
       "model_id": "fa5a01579dd149aea2b2b0707939d67c",
       "version_major": 2,
       "version_minor": 0
      },
      "text/plain": [
       "HBox(children=(Label(value='Named Graph URI:', layout=Layout(display='none', justify_content='flex-end', width…"
      ]
     },
     "metadata": {},
     "output_type": "display_data"
    },
    {
     "data": {
      "application/vnd.jupyter.widget-view+json": {
       "model_id": "7fd6bbb8fdfd4cfdb8f6c4cc35b2888e",
       "version_major": 2,
       "version_minor": 0
      },
      "text/plain": [
       "HBox(children=(Label(value='Base URI:', layout=Layout(display='none', justify_content='flex-end', width='16%')…"
      ]
     },
     "metadata": {},
     "output_type": "display_data"
    },
    {
     "data": {
      "application/vnd.jupyter.widget-view+json": {
       "model_id": "72e1deb9d55142c49bc5b110da00cc70",
       "version_major": 2,
       "version_minor": 0
      },
      "text/plain": [
       "Button(description='Submit', style=ButtonStyle())"
      ]
     },
     "metadata": {},
     "output_type": "display_data"
    },
    {
     "data": {
      "application/vnd.jupyter.widget-view+json": {
       "model_id": "c60cf3ec5efb4820895a37af82f125ba",
       "version_major": 2,
       "version_minor": 0
      },
      "text/plain": [
       "Output()"
      ]
     },
     "metadata": {},
     "output_type": "display_data"
    }
   ],
   "source": [
    "%load"
   ]
  },
  {
   "cell_type": "code",
   "execution_count": 65,
   "id": "ab82f3fc",
   "metadata": {},
   "outputs": [
    {
     "data": {
      "application/vnd.jupyter.widget-view+json": {
       "model_id": "bec8ee10d3254d68a8a66bd516ed6150",
       "version_major": 2,
       "version_minor": 0
      },
      "text/plain": [
       "Tab(children=(Output(layout=Layout(max_height='600px', max_width='940px', overflow='scroll')), Output(layout=L…"
      ]
     },
     "metadata": {},
     "output_type": "display_data"
    }
   ],
   "source": [
    "%%sparql\n",
    "PREFIX clmo: <http://climate.aws.com/ontology/>\n",
    "PREFIX clmr: <http://climate.aws.com/resource#>\n",
    "\n",
    "\n",
    "select * where {\n",
    "\n",
    "    SERVICE <http://44.214.5.75:8080/sparql> {\n",
    "        clmr:74063099999 a clmo:WeatherStation ;\n",
    "        ?p ?o .\n",
    "    } \n",
    "} "
   ]
  },
  {
   "cell_type": "code",
   "execution_count": 82,
   "id": "7278c971",
   "metadata": {},
   "outputs": [
    {
     "data": {
      "application/vnd.jupyter.widget-view+json": {
       "model_id": "98dc834db1314092be6360b1609fec3b",
       "version_major": 2,
       "version_minor": 0
      },
      "text/plain": [
       "Tab(children=(Output(layout=Layout(max_height='600px', max_width='940px', overflow='scroll')), Force(network=<…"
      ]
     },
     "metadata": {},
     "output_type": "display_data"
    }
   ],
   "source": [
    "%%sparql\n",
    "\n",
    "select * where {\n",
    "?s ?p ?o .\n",
    "} limit 10"
   ]
  },
  {
   "cell_type": "code",
   "execution_count": null,
   "id": "5235ad16",
   "metadata": {},
   "outputs": [],
   "source": []
  }
 ],
 "metadata": {
  "kernelspec": {
   "display_name": "Python 3",
   "language": "python",
   "name": "python3"
  },
  "language_info": {
   "codemirror_mode": {
    "name": "ipython",
    "version": 3
   },
   "file_extension": ".py",
   "mimetype": "text/x-python",
   "name": "python",
   "nbconvert_exporter": "python",
   "pygments_lexer": "ipython3",
   "version": "3.10.8"
  }
 },
 "nbformat": 4,
 "nbformat_minor": 5
}
