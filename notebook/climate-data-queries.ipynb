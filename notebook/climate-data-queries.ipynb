{
 "cells": [
  {
   "cell_type": "markdown",
   "id": "b5f61784",
   "metadata": {},
   "source": [
    "# Get Climate data\n",
    "\n",
    "This notebook demonstrates graph virtualization in Amazon Neptune. \n",
    "\n",
    "In a Neptune database we maintain weather station data. We represent this data as Resource Description Framework (RDF)\n",
    "\n",
    "In a data lake we keep a record of readings from those stations collected over several years. The lake data resides in Parquet files in an Amazon Simple Storage Service (S3) bucket. We can query that data using SQL via the Amazon Athena service. We use the AWS Glue Data Catalog to define a relational/tabular structure of the readings data. This enables Athena to see the readings data as if it came from a table. \n",
    "\n",
    "In a SPARQL query to the Neptune database, we can access the readings data from the data lake using SPARQL federated query. In SPARQL federation, we use the SERVICE directive to collect results from a second SPARQL endpoint. In our example, we wish to collect readings from the lake. But the lake can be queried using SQL, not SPARQL! We use Ontop VKG (https://ontop-vkg.org/), a tool that functions as a SPARQL endpoint but can in turn invoke a relational database using SQL. \n",
    "\n",
    "The end to end flow is shown in the next figure.\n",
    "\n",
    "<img src=\"https://raw.githubusercontent.com/aws-samples/amazon-neptune-graph-virtualization/main/images/nep2lake_design_flow.png\">\n",
    "\n",
    "\n",
    "For more detail, see our blog post. Or watch a YouTube video on this topic: https://www.youtube.com/watch?v=jNB0HpsGtEw. Or visit our Git repository: https://github.com/aws-samples/amazon-neptune-graph-virtualization/tree/main.\n",
    "\n",
    "See https://docs.aws.amazon.com/neptune/latest/userguide/sparql-service.html for more on SPARQL federation support in Neptune. We also recommend this blog post: https://aws.amazon.com/blogs/database/benefitting-from-sparql-1-1-federated-queries-with-amazon-neptune/. "
   ]
  },
  {
   "cell_type": "markdown",
   "id": "363962c7",
   "metadata": {},
   "source": [
    "## Bulk-load RDF data to Neptune\n",
    "\n",
    "Run the next cell to bulk-load the weather station data to Neptune. The S3 bucket was created as part of the CloudFormation stack. See https://docs.aws.amazon.com/neptune/latest/userguide/bulk-load.html for more on the bulk loader."
   ]
  },
  {
   "cell_type": "code",
   "execution_count": null,
   "id": "16866732",
   "metadata": {},
   "outputs": [],
   "source": [
    "import os\n",
    "import subprocess\n",
    "\n",
    "stream = os.popen(\"source ~/.bashrc ; echo $DATA_BUCKET\")\n",
    "lines=stream.read().split(\"\\n\")\n",
    "DATA_BUCKET=lines[0]\n",
    "DATA_BUCKET\n",
    "%load -s s3://{DATA_BUCKET}/rdf -f nquads --store-to loadres1 --run\n"
   ]
  },
  {
   "cell_type": "code",
   "execution_count": null,
   "id": "b2627eab",
   "metadata": {},
   "outputs": [],
   "source": [
    "%load_status {loadres1['payload']['loadId']} --errors --details\n"
   ]
  },
  {
   "cell_type": "markdown",
   "id": "b181c477",
   "metadata": {},
   "source": [
    "## Run queries across graph and lake!\n",
    "Now let's query weather station and readings data. \n",
    "\n",
    "The first query lists details about a specific station. "
   ]
  },
  {
   "cell_type": "code",
   "execution_count": null,
   "id": "bd2c5cb0",
   "metadata": {},
   "outputs": [],
   "source": [
    "%%sparql\n",
    "\n",
    "select * where {\n",
    "    <http://climate.aws.com/resource#3129099999> ?p ?o}\n"
   ]
  },
  {
   "cell_type": "markdown",
   "id": "72a42c3b",
   "metadata": {},
   "source": [
    "The next query gets both the station and some of its readings. Before running, in the SERVICE tag change the IP address to the private IP address of your Ontop container. For detailed instructions on how to do this, refer to the blog post."
   ]
  },
  {
   "cell_type": "code",
   "execution_count": null,
   "id": "366dba1d",
   "metadata": {},
   "outputs": [],
   "source": [
    "%%sparql\n",
    "PREFIX clmo: <http://climate.aws.com/ontology/>\n",
    "PREFIX clmr: <http://climate.aws.com/resource#>\n",
    "PREFIX rdfs: <http://www.w3.org/2000/01/rdf-schema#>\n",
    "\n",
    "\n",
    "# readings at Manchester UK in \n",
    "select * where {\n",
    "    BIND(clmr:3334099999 as ?stat) .\n",
    "    ?stat rdfs:label ?name .\n",
    "    ?stat clmo:latitude ?lat .\n",
    "    ?stat clmo:longitude ?long .\n",
    "    \n",
    "    SERVICE <http://172.30.1.129:8080/sparql> {\n",
    "           ?reading clmo:station ?stat ;\n",
    "            clmo:celsius ?celsius ;\n",
    "            clmo:dateTime ?dateTime ;\n",
    "            clmo:fahrenheit ?fahrenheit ;\n",
    "            FILTER(?celsius >= \"30\"^^xsd:double) .\n",
    "    } \n",
    "} \n",
    "LIMIT 10\n"
   ]
  },
  {
   "cell_type": "markdown",
   "id": "9382402f",
   "metadata": {},
   "source": [
    "The next query gets both the station and some of its readings. Before running, in the SERVICE tag change the IP address to the private IP address of your Ontop container. For detailed instructions on how to do this, refer to the blog post."
   ]
  },
  {
   "cell_type": "code",
   "execution_count": null,
   "id": "ad7becbc",
   "metadata": {},
   "outputs": [],
   "source": [
    "%%sparql\n",
    "PREFIX clmo: <http://climate.aws.com/ontology/>\n",
    "PREFIX clmr: <http://climate.aws.com/resource#>\n",
    "PREFIX rdfs: <http://www.w3.org/2000/01/rdf-schema#>\n",
    "\n",
    "\n",
    "# readings at Manchester UK in \n",
    "select * where {\n",
    "    BIND(clmr:3334099999 as ?stat) .\n",
    "    ?stat rdfs:label ?name .\n",
    "    ?stat clmo:latitude ?lat .\n",
    "    ?stat clmo:longitude ?long .\n",
    "    \n",
    "    SERVICE <http://172.30.1.129:8080/sparql> {\n",
    "       ?reading clmo:station ?stat ;\n",
    "            clmo:celsius ?celsius ;\n",
    "            clmo:dateTime ?dateTime ;\n",
    "            clmo:fahrenheit ?fahrenheit ;\n",
    "            FILTER(?dateTime > \"1985-12-04T13:20:00\"^^xsd:dateTime) .\n",
    "            #FILTER(?celsius >= \"30\"^^xsd:double) .\n",
    "    } \n",
    "} \n",
    "LIMIT 40"
   ]
  }
 ],
 "metadata": {
  "kernelspec": {
   "display_name": "Python 3",
   "language": "python",
   "name": "python3"
  },
  "language_info": {
   "codemirror_mode": {
    "name": "ipython",
    "version": 3
   },
   "file_extension": ".py",
   "mimetype": "text/x-python",
   "name": "python",
   "nbconvert_exporter": "python",
   "pygments_lexer": "ipython3",
   "version": "3.10.8"
  }
 },
 "nbformat": 4,
 "nbformat_minor": 5
}
