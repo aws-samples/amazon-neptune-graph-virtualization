{
 "cells": [
  {
   "cell_type": "markdown",
   "id": "b5f61784",
   "metadata": {},
   "source": [
    "# Get Climate data"
   ]
  },
  {
   "cell_type": "markdown",
   "id": "363962c7",
   "metadata": {},
   "source": [
    "## Bulk-load RDF data to Neptune"
   ]
  },
  {
   "cell_type": "code",
   "execution_count": null,
   "id": "16866732",
   "metadata": {},
   "outputs": [],
   "source": [
    "import os\n",
    "import subprocess\n",
    "\n",
    "stream = os.popen(\"source ~/.bashrc ; echo $DATA_BUCKET\")\n",
    "lines=stream.read().split(\"\\n\")\n",
    "DATA_BUCKET=lines[0]\n",
    "DATA_BUCKET\n",
    "%load -s s3://{DATA_BUCKET}/rdf -f nquads --store-to loadres1 --run\n"
   ]
  },
  {
   "cell_type": "code",
   "execution_count": null,
   "id": "b2627eab",
   "metadata": {},
   "outputs": [],
   "source": [
    "%load_status {loadres1['payload']['loadId']} --errors --details\n"
   ]
  },
  {
   "cell_type": "markdown",
   "id": "b181c477",
   "metadata": {},
   "source": [
    "## Run queries across graph and lake!\n",
    "\n",
    "In each query, copy the private IP of ECS task."
   ]
  },
  {
   "cell_type": "code",
   "execution_count": null,
   "id": "bd2c5cb0",
   "metadata": {},
   "outputs": [],
   "source": [
    "%%sparql\n",
    "\n",
    "select * where {\n",
    "    <http://climate.aws.com/resource#3129099999> ?p ?o}\n"
   ]
  },
  {
   "cell_type": "code",
   "execution_count": null,
   "id": "366dba1d",
   "metadata": {},
   "outputs": [],
   "source": [
    "%%sparql\n",
    "PREFIX clmo: <http://climate.aws.com/ontology/>\n",
    "PREFIX clmr: <http://climate.aws.com/resource#>\n",
    "PREFIX rdfs: <http://www.w3.org/2000/01/rdf-schema#>\n",
    "\n",
    "\n",
    "# readings at Manchester UK in \n",
    "select * where {\n",
    "    BIND(clmr:3334099999 as ?stat) .\n",
    "    ?stat rdfs:label ?name .\n",
    "    ?stat clmo:latitude ?lat .\n",
    "    ?stat clmo:longitude ?long .\n",
    "    \n",
    "    SERVICE <http://172.30.1.4:8080/sparql> {\n",
    "       ?reading clmo:station ?stat ;\n",
    "            clmo:celsius ?celsius ;\n",
    "            clmo:dateTime ?dateTime ;\n",
    "            clmo:fahrenheit ?fahrenheit ;\n",
    "            #FILTER(?dateTime > \"1985-12-04T13:20:00\"^^xsd:dateTime) .\n",
    "            FILTER(?celsius >= \"30\"^^xsd:double) .\n",
    "    } \n",
    "} \n",
    "LIMIT 10\n"
   ]
  },
  {
   "cell_type": "code",
   "execution_count": null,
   "id": "ad7becbc",
   "metadata": {},
   "outputs": [],
   "source": [
    "%%sparql\n",
    "PREFIX clmo: <http://climate.aws.com/ontology/>\n",
    "PREFIX clmr: <http://climate.aws.com/resource#>\n",
    "PREFIX rdfs: <http://www.w3.org/2000/01/rdf-schema#>\n",
    "\n",
    "\n",
    "# readings at Manchester UK in \n",
    "select * where {\n",
    "    BIND(clmr:3334099999 as ?stat) .\n",
    "    ?stat rdfs:label ?name .\n",
    "    ?stat clmo:latitude ?lat .\n",
    "    ?stat clmo:longitude ?long .\n",
    "    \n",
    "    SERVICE <http://172.30.1.4:8080/sparql> {\n",
    "       ?reading clmo:station ?stat ;\n",
    "            clmo:celsius ?celsius ;\n",
    "            clmo:dateTime ?dateTime ;\n",
    "            clmo:fahrenheit ?fahrenheit ;\n",
    "            FILTER(?dateTime > \"1985-12-04T13:20:00\"^^xsd:dateTime) .\n",
    "            #FILTER(?celsius >= \"30\"^^xsd:double) .\n",
    "    } \n",
    "} \n",
    "LIMIT 40"
   ]
  }
 ],
 "metadata": {
  "kernelspec": {
   "display_name": "Python 3",
   "language": "python",
   "name": "python3"
  },
  "language_info": {
   "codemirror_mode": {
    "name": "ipython",
    "version": 3
   },
   "file_extension": ".py",
   "mimetype": "text/x-python",
   "name": "python",
   "nbconvert_exporter": "python",
   "pygments_lexer": "ipython3",
   "version": "3.10.8"
  }
 },
 "nbformat": 4,
 "nbformat_minor": 5
}
